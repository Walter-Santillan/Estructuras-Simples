{
 "cells": [
  {
   "cell_type": "markdown",
   "metadata": {},
   "source": [
    "## 6)- Condicionales - IF"
   ]
  },
  {
   "cell_type": "markdown",
   "metadata": {},
   "source": [
    "#### *ejemplo con edad.*"
   ]
  },
  {
   "cell_type": "code",
   "execution_count": 1,
   "metadata": {},
   "outputs": [
    {
     "name": "stdout",
     "output_type": "stream",
     "text": [
      "Sos mayor de edad\n"
     ]
    }
   ],
   "source": [
    "edad = 18\n",
    "if edad >= 18:\n",
    "    print('Sos mayor de edad')\n",
    "else:\n",
    "    print('No sos mayor de edad')"
   ]
  },
  {
   "cell_type": "code",
   "execution_count": 2,
   "metadata": {},
   "outputs": [
    {
     "name": "stdout",
     "output_type": "stream",
     "text": [
      "Sos mayor de edad\n"
     ]
    }
   ],
   "source": [
    "edad = 18\n",
    "\n",
    "if edad >= 18:\n",
    "    print('Sos mayor de edad')\n",
    "elif edad >=13:\n",
    "    print('Sos adolescente')\n",
    "else:\n",
    "    print('Sos un niño')"
   ]
  },
  {
   "cell_type": "markdown",
   "metadata": {},
   "source": [
    "#### *ejemplo con paises.*"
   ]
  },
  {
   "cell_type": "code",
   "execution_count": 6,
   "metadata": {},
   "outputs": [
    {
     "name": "stdout",
     "output_type": "stream",
     "text": [
      "El pais esta en la lista\n"
     ]
    }
   ],
   "source": [
    "paises = ['USA', 'India', 'China', 'Argentina']\n",
    "\n",
    "if 'China' in paises:\n",
    "    print('El pais esta en la lista')\n",
    "else:\n",
    "    print('El pais no esta en la lista')"
   ]
  },
  {
   "cell_type": "code",
   "execution_count": 7,
   "metadata": {},
   "outputs": [
    {
     "name": "stdout",
     "output_type": "stream",
     "text": [
      "El pais no esta en la lista\n"
     ]
    }
   ],
   "source": [
    "if 'Colombia' in paises:\n",
    "    print('El pais esta en la lista')\n",
    "else:\n",
    "    print('El pais no esta en la lista')"
   ]
  }
 ],
 "metadata": {
  "kernelspec": {
   "display_name": "Python 3",
   "language": "python",
   "name": "python3"
  },
  "language_info": {
   "codemirror_mode": {
    "name": "ipython",
    "version": 3
   },
   "file_extension": ".py",
   "mimetype": "text/x-python",
   "name": "python",
   "nbconvert_exporter": "python",
   "pygments_lexer": "ipython3",
   "version": "3.8.5"
  }
 },
 "nbformat": 4,
 "nbformat_minor": 4
}
